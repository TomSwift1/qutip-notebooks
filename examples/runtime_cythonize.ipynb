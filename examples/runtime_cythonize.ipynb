{
 "cells": [
  {
   "cell_type": "markdown",
   "metadata": {},
   "source": [
    "# Runtime Cythonize in QuTiP\n",
    "\n",
    "![QuTiP logo](./images/qutip_logo-sml.png)\n",
    "\n",
    "## Prepared for EuroSciPy 2019\n",
    "\n",
    "![EuroSciPy_logo](./images/EuroSciPy_logo-sml.png)\n",
    "\n",
    "Alex Pitchford (alex.pitchford@gmail.com)"
   ]
  },
  {
   "cell_type": "markdown",
   "metadata": {},
   "source": [
    "## Ordinary differential equation solver\n",
    "\n",
    "of the form\n",
    "\n",
    "$$ \\frac{\\textrm{d} x}{\\textrm{d} t} = L(t) \\; x $$\n",
    "\n",
    "$x$ -- vector:\n",
    "\n",
    "state $\\newcommand{\\ket}[1]{\\left|{#1}\\right\\rangle} \\ket{\\psi}$ or\n",
    "vectorised density matrix $\\vec{\\rho}$\n",
    "\n",
    "or $x$ -- matrix:\n",
    "\n",
    "unitary transformation $U$ or\n",
    "dynamical map $M$\n",
    "\n",
    "and $L$ -- sparse matrix that drives the dynamics.\n",
    "\n",
    "In Python these are `Qobj`\n",
    "\n",
    "wrapper to `fast_csr_matrix` -- custom to QuTiP.\n",
    "\n"
   ]
  },
  {
   "cell_type": "markdown",
   "metadata": {},
   "source": [
    "### Time dependent dyanmics generator\n",
    "\n",
    "$$ L(t) = L_0 + g_1(t) L_1 + g_2(t) L_2 + \\ldots $$\n",
    "\n",
    "$L(t)$ defined in Python as list of matrices \n",
    "\n",
    "and (optionally) time-dependent functions\n",
    "\n",
    "```\n",
    "L = [L0, [L1, g1], [L2, g2] ....]\n",
    "```\n",
    "\n",
    "`L` -- `Qobj`\n",
    "`g` -- Python function, \n",
    "e.g. `def g(t, args): return np.cos(args['w']*t)`\n",
    "or\n",
    "string `\"cos(w*t)\"`\n"
   ]
  },
  {
   "cell_type": "code",
   "execution_count": null,
   "metadata": {},
   "outputs": [],
   "source": [
    "### Comparing "
   ]
  }
 ],
 "metadata": {
  "kernelspec": {
   "display_name": "Python 3",
   "language": "python",
   "name": "python3"
  },
  "language_info": {
   "codemirror_mode": {
    "name": "ipython",
    "version": 3
   },
   "file_extension": ".py",
   "mimetype": "text/x-python",
   "name": "python",
   "nbconvert_exporter": "python",
   "pygments_lexer": "ipython3",
   "version": "3.7.3"
  }
 },
 "nbformat": 4,
 "nbformat_minor": 2
}
